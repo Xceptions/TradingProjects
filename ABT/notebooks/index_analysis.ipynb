{
 "cells": [
  {
   "cell_type": "code",
   "execution_count": 1,
   "metadata": {},
   "outputs": [],
   "source": [
    "import numpy as np\n",
    "import pandas as pd\n",
    "from pandas.tseries.holiday import USFederalHolidayCalendar as calendar\n",
    "import warnings\n",
    "from sklearn import model_selection\n",
    "import matplotlib.pyplot as plt\n",
    "import seaborn as sns\n",
    "\n",
    "warnings.filterwarnings('ignore')"
   ]
  },
  {
   "cell_type": "code",
   "execution_count": 2,
   "metadata": {},
   "outputs": [
    {
     "name": "stdout",
     "output_type": "stream",
     "text": [
      "Memory usage after optimization is: 1.23 MB\n",
      "Decreased by 75.3%\n"
     ]
    }
   ],
   "source": [
    "def read_data():\n",
    "    return pd.read_csv('../input/raw/ABT.csv')\n",
    "\n",
    "def save_data(df, perc_):\n",
    "    len_df = df.shape[0]\n",
    "    train_perc = int(len_df * perc_)\n",
    "    \n",
    "    train_df = df[:train_perc]\n",
    "    test_df = df[train_perc:]\n",
    "    train_df.to_csv('../input/train.csv')\n",
    "    test_df.to_csv('../input/test.csv')\n",
    "    \n",
    "def reduce_mem_usage(df, verbose=True):\n",
    "    numerics = ['int16', 'int32', 'int64', 'float16', 'float32', 'float64']\n",
    "    start_mem = df.memory_usage().sum() / 1024**2\n",
    "    for col in df.columns:\n",
    "        col_type = df[col].dtypes\n",
    "        if col_type in numerics:\n",
    "            c_min = df[col].min()\n",
    "            c_max = df[col].max()\n",
    "            if str(col_type)[:3] == 'int':\n",
    "                if c_min > np.iinfo(np.int8).min and c_max < np.iinfo(np.int8).max:\n",
    "                    df[col] = df[col].astype(np.int8)\n",
    "                elif c_min > np.iinfo(np.int16).min and c_max < np.iinfo(np.int16).max:\n",
    "                    df[col] = df[col].astype(np.int16)\n",
    "                elif c_min > np.iinfo(np.int32).min and c_max < np.iinfo(np.int32).max:\n",
    "                    df[col] = df[col].astype(np.int32)\n",
    "                elif c_min > np.iinfo(np.int64).min and c_max < np.iinfo(np.int64).max:\n",
    "                    df[col] = df[col].astype(np.int64)\n",
    "            else:\n",
    "                if c_min > np.finfo(np.float16).min and c_max < np.finfo(np.float16).max:\n",
    "                    df[col] = df[col].astype(np.float16)\n",
    "                elif c_min > np.finfo(np.float32).min and c_max < np.finfo(np.float32).max:\n",
    "                    df[col] = df[col].astype(np.float32)\n",
    "                else:\n",
    "                    df[col] = df[col].astype(np.float64)\n",
    "\n",
    "    end_mem = df.memory_usage().sum() / 1024**2\n",
    "    print('Memory usage after optimization is: {:.2f} MB'.format(end_mem))\n",
    "    print('Decreased by {:.1f}%'.format(100 * (start_mem - end_mem) / start_mem))\n",
    "\n",
    "    return df\n",
    "\n",
    "data = read_data()\n",
    "data = reduce_mem_usage(data)"
   ]
  },
  {
   "cell_type": "code",
   "execution_count": 3,
   "metadata": {},
   "outputs": [],
   "source": [
    "# data['Date'] = pd.to_datetime(data['Date'])\n",
    "df = data"
   ]
  },
  {
   "cell_type": "code",
   "execution_count": null,
   "metadata": {},
   "outputs": [],
   "source": [
    "# df['day'] = df['Date'].dt.day.astype(\"int16\")\n",
    "# df['month'] = df['Date'].dt.month.astype(\"int16\")\n",
    "# df['year'] = df['Date'].dt.year.astype(\"int16\")\n",
    "# df['weekday'] = df['Date'].dt.weekday.astype(\"int16\")\n",
    "# df['quarter'] = df['Date'].dt.quarter.astype(\"int16\")\n",
    "# # df['is_holiday'] = df['Date'].isin(holidays).astype(\"int16\")\n",
    "\n",
    "df['shifted_close'] = df['Close'].shift(periods=-1)\n",
    "df.shifted_close.head()"
   ]
  },
  {
   "cell_type": "code",
   "execution_count": null,
   "metadata": {},
   "outputs": [],
   "source": [
    "data[['Close', 'shifted_close']].plot(figsize=(16,6))"
   ]
  },
  {
   "cell_type": "code",
   "execution_count": null,
   "metadata": {},
   "outputs": [],
   "source": [
    "data['Close'].plot(figsize=(16,6))"
   ]
  },
  {
   "cell_type": "code",
   "execution_count": null,
   "metadata": {},
   "outputs": [],
   "source": []
  },
  {
   "cell_type": "code",
   "execution_count": null,
   "metadata": {},
   "outputs": [],
   "source": []
  },
  {
   "cell_type": "code",
   "execution_count": null,
   "metadata": {},
   "outputs": [],
   "source": [
    "def calc_roll_stats(s, windows=[5, 30]):\n",
    "    '''\n",
    "    # https://www.kaggle.com/hirayukis/lightgbm-keras-and-4-kfold\n",
    "    Calculates rolling stats like mean, std, min, max...\n",
    "    '''\n",
    "    roll_stats = pd.DataFrame()\n",
    "    for w in windows:\n",
    "        roll_stats['roll_mean_' + str(w)] = s.rolling(window=w, min_periods=1).mean()\n",
    "        roll_stats['roll_std_' + str(w)] = s.rolling(window=w, min_periods=1).std()\n",
    "        roll_stats['roll_min_' + str(w)] = s.rolling(window=w, min_periods=1).min()\n",
    "        roll_stats['roll_max_' + str(w)] = s.rolling(window=w, min_periods=1).max()\n",
    "        roll_stats['roll_range_' + str(w)] = roll_stats['roll_max_' + str(w)] - roll_stats['roll_min_' + str(w)]\n",
    "        roll_stats['roll_mean_s_' + str(w)] = s.rolling(window=w, min_periods=1).mean().shift(-w)\n",
    "        roll_stats['roll_std_s_' + str(w)] = s.rolling(window=w, min_periods=1).std().shift(-w)\n",
    "        roll_stats['roll_min_s_' + str(w)] = s.rolling(window=w, min_periods=1).min().shift(-w)\n",
    "        roll_stats['roll_max_s_' + str(w)] = s.rolling(window=w, min_periods=1).max().shift(-w)\n",
    "        roll_stats['roll_range_s_' + str(w)] = roll_stats['roll_max_s_' + str(w)] - roll_stats['roll_min_s_' + str(w)]\n",
    "        roll_stats['roll_min_abs_' + str(w)] = s.rolling(window=2*w, min_periods=1).min().abs().shift(-w)\n",
    "        roll_stats['roll_range_sbs_' + str(w)] = roll_stats['roll_max_' + str(w)] - roll_stats['roll_min_abs_' + str(w)].shift(-w)\n",
    "        roll_stats['roll_q10_' + str(w)] = s.rolling(window=2*w, min_periods=1).quantile(0.10).shift(-w)\n",
    "        roll_stats['roll_q25_' + str(w)] = s.rolling(window=2*w, min_periods=1).quantile(0.25).shift(-w)\n",
    "        roll_stats['roll_q50_' + str(w)] = s.rolling(window=2*w, min_periods=1).quantile(0.50).shift(-w)\n",
    "        roll_stats['roll_q75_' + str(w)] = s.rolling(window=2*w, min_periods=1).quantile(0.75).shift(-w)\n",
    "        roll_stats['roll_q90_' + str(w)] = s.rolling(window=2*w, min_periods=1).quantile(0.90).shift(-w)\n",
    "        roll_stats['mean_abs_chg' + str(w)] = roll_stats.apply(lambda x: np.mean(np.abs(np.diff(x))))\n",
    "    \n",
    "    # add zeros when na values (std)\n",
    "    roll_stats = roll_stats.fillna(value=0)\n",
    "             \n",
    "    return roll_stats\n",
    "\n",
    "#########################################################################################################################\n",
    "\n",
    "def calc_ewm(s, windows=[5]):\n",
    "    ewm = pd.DataFrame()\n",
    "    for w in windows:\n",
    "        ewm['ewm_mean_' + str(w)] = s.ewm(span=w, min_periods=1).mean()\n",
    "        ewm['ewm_std_' + str(w)] = s.ewm(span=w, min_periods=1).std()\n",
    "        \n",
    "    # add zeros when na values (std)\n",
    "    ewm = ewm.fillna(value=0)\n",
    "        \n",
    "    return ewm"
   ]
  },
  {
   "cell_type": "code",
   "execution_count": null,
   "metadata": {},
   "outputs": [],
   "source": [
    "ewms = calc_ewm(data['Close'])\n",
    "rollstats = calc_roll_stats(data['Close'])"
   ]
  },
  {
   "cell_type": "code",
   "execution_count": null,
   "metadata": {},
   "outputs": [],
   "source": [
    "df = data.join(ewms)\n",
    "df = data.join(rollstats)"
   ]
  },
  {
   "cell_type": "code",
   "execution_count": null,
   "metadata": {},
   "outputs": [],
   "source": [
    "df['roll_min_30'].plot(figsize=(16,6))\n",
    "# df.head()"
   ]
  },
  {
   "cell_type": "code",
   "execution_count": null,
   "metadata": {},
   "outputs": [],
   "source": [
    "df['roll_q10_5'].plot(figsize=(16,6))"
   ]
  },
  {
   "cell_type": "code",
   "execution_count": null,
   "metadata": {},
   "outputs": [],
   "source": [
    "df['Date'] = pd.to_datetime(df['Date'])\n",
    "\n",
    "# check if today is a holiday based on US\n",
    "cal = calendar()\n",
    "holidays = cal.holidays(start=df['Date'].min(), end=df['Date'].max())"
   ]
  },
  {
   "cell_type": "code",
   "execution_count": null,
   "metadata": {},
   "outputs": [],
   "source": [
    "df.drop(['Date'], axis=1, inplace=True)"
   ]
  },
  {
   "cell_type": "code",
   "execution_count": null,
   "metadata": {},
   "outputs": [],
   "source": [
    "def return_class(x):\n",
    "    if x<0:\n",
    "        return 1 # fell\n",
    "    elif x==0:\n",
    "        return 2 # stagnant\n",
    "    else:\n",
    "        return 3 # rise\n",
    "\n",
    "df['return_class'] = df['return'].apply(return_class)\n",
    "df['return_class'].head()"
   ]
  },
  {
   "cell_type": "code",
   "execution_count": null,
   "metadata": {},
   "outputs": [],
   "source": [
    "df.head()"
   ]
  },
  {
   "cell_type": "code",
   "execution_count": 4,
   "metadata": {},
   "outputs": [],
   "source": [
    "save_data(df, 0.85)"
   ]
  },
  {
   "cell_type": "markdown",
   "metadata": {},
   "source": [
    "### Feature Engineering\n",
    "\n",
    "1. shift price features"
   ]
  },
  {
   "cell_type": "code",
   "execution_count": null,
   "metadata": {},
   "outputs": [],
   "source": [
    "# colscorr = ['Open', 'High', 'Low', 'Close', 'Volume', 'rsi', 'weekday', 'middle_bb',\n",
    "#         'lower_bb', 'upper_bb', 'macd', 'pos_directional_indicator', 'neg_directional_indicator',\n",
    "#         'adx', 'cci', 'aroon_down', 'aroon_up', 'aroon_indicator', 'day', 'month', 'year',\n",
    "#         'quarter', 'is_holiday', 'return']\n",
    "\n",
    "cor = df.corr()\n",
    "# sns.heatmap(cor, annot=True, cmap=plt.cm.Reds)\n",
    "# plt.show()"
   ]
  },
  {
   "cell_type": "code",
   "execution_count": null,
   "metadata": {},
   "outputs": [],
   "source": [
    "#Correlation with output variable\n",
    "# cor_target = abs(cor[\"return_class\"])\n",
    "\n",
    "#Selecting highly correlated features\n",
    "relevant_features = cor_target[cor_target>0.1]\n",
    "relevant_features"
   ]
  },
  {
   "cell_type": "markdown",
   "metadata": {},
   "source": [
    "**Return class of price the following day, 1 - fell, 2-stagnant, 3-rise**"
   ]
  },
  {
   "cell_type": "code",
   "execution_count": null,
   "metadata": {},
   "outputs": [],
   "source": [
    "data['Close'].diff(periods=1) > 0"
   ]
  },
  {
   "cell_type": "code",
   "execution_count": null,
   "metadata": {},
   "outputs": [],
   "source": [
    "def get_feature_trend(ft):\n",
    "    tmp_df = list(data[ft].diff(periods=1))\n",
    "    ans = []\n",
    "    for x in tmp_df:\n",
    "        if x < 0:\n",
    "            ans.append(1)\n",
    "        elif x == 0:\n",
    "            ans.append(2)\n",
    "        else:\n",
    "            ans.append(3)\n",
    "    return ans"
   ]
  },
  {
   "cell_type": "code",
   "execution_count": null,
   "metadata": {},
   "outputs": [],
   "source": [
    "df['Close_trend'] = get_feature_trend('Close')\n",
    "df['Close_trend']"
   ]
  },
  {
   "cell_type": "code",
   "execution_count": 5,
   "metadata": {},
   "outputs": [
    {
     "data": {
      "text/html": [
       "<div>\n",
       "<style scoped>\n",
       "    .dataframe tbody tr th:only-of-type {\n",
       "        vertical-align: middle;\n",
       "    }\n",
       "\n",
       "    .dataframe tbody tr th {\n",
       "        vertical-align: top;\n",
       "    }\n",
       "\n",
       "    .dataframe thead th {\n",
       "        text-align: right;\n",
       "    }\n",
       "</style>\n",
       "<table border=\"1\" class=\"dataframe\">\n",
       "  <thead>\n",
       "    <tr style=\"text-align: right;\">\n",
       "      <th></th>\n",
       "      <th>SVM</th>\n",
       "      <th>LGB</th>\n",
       "      <th>close_tomorrow</th>\n",
       "      <th>close</th>\n",
       "      <th>SVM %change</th>\n",
       "      <th>LGB %change</th>\n",
       "      <th>close_tomorrow %change</th>\n",
       "    </tr>\n",
       "  </thead>\n",
       "  <tbody>\n",
       "    <tr>\n",
       "      <th>0</th>\n",
       "      <td>48.023550</td>\n",
       "      <td>48.258146</td>\n",
       "      <td>48.90</td>\n",
       "      <td>48.10</td>\n",
       "      <td>-0.158940</td>\n",
       "      <td>0.328785</td>\n",
       "      <td>1.663202</td>\n",
       "    </tr>\n",
       "    <tr>\n",
       "      <th>1</th>\n",
       "      <td>48.161196</td>\n",
       "      <td>48.712159</td>\n",
       "      <td>48.75</td>\n",
       "      <td>48.90</td>\n",
       "      <td>-1.510846</td>\n",
       "      <td>-0.384132</td>\n",
       "      <td>-0.306748</td>\n",
       "    </tr>\n",
       "    <tr>\n",
       "      <th>2</th>\n",
       "      <td>48.316757</td>\n",
       "      <td>48.729553</td>\n",
       "      <td>48.75</td>\n",
       "      <td>48.75</td>\n",
       "      <td>-0.888703</td>\n",
       "      <td>-0.041942</td>\n",
       "      <td>0.000000</td>\n",
       "    </tr>\n",
       "    <tr>\n",
       "      <th>3</th>\n",
       "      <td>48.306470</td>\n",
       "      <td>48.730569</td>\n",
       "      <td>49.44</td>\n",
       "      <td>48.75</td>\n",
       "      <td>-0.909806</td>\n",
       "      <td>-0.039858</td>\n",
       "      <td>1.415385</td>\n",
       "    </tr>\n",
       "    <tr>\n",
       "      <th>4</th>\n",
       "      <td>48.497235</td>\n",
       "      <td>49.484941</td>\n",
       "      <td>50.84</td>\n",
       "      <td>49.44</td>\n",
       "      <td>-1.906888</td>\n",
       "      <td>0.090901</td>\n",
       "      <td>2.831715</td>\n",
       "    </tr>\n",
       "  </tbody>\n",
       "</table>\n",
       "</div>"
      ],
      "text/plain": [
       "         SVM        LGB  close_tomorrow  close  SVM %change  LGB %change  \\\n",
       "0  48.023550  48.258146           48.90  48.10    -0.158940     0.328785   \n",
       "1  48.161196  48.712159           48.75  48.90    -1.510846    -0.384132   \n",
       "2  48.316757  48.729553           48.75  48.75    -0.888703    -0.041942   \n",
       "3  48.306470  48.730569           49.44  48.75    -0.909806    -0.039858   \n",
       "4  48.497235  49.484941           50.84  49.44    -1.906888     0.090901   \n",
       "\n",
       "   close_tomorrow %change  \n",
       "0                1.663202  \n",
       "1               -0.306748  \n",
       "2                0.000000  \n",
       "3                1.415385  \n",
       "4                2.831715  "
      ]
     },
     "execution_count": 5,
     "metadata": {},
     "output_type": "execute_result"
    }
   ],
   "source": [
    "import numpy as np\n",
    "import pandas as pd\n",
    "\n",
    "dt = pd.read_csv('../output/v1_test_inference_perc_check.csv')\n",
    "dt.head()"
   ]
  },
  {
   "cell_type": "code",
   "execution_count": 6,
   "metadata": {},
   "outputs": [
    {
     "data": {
      "text/html": [
       "<div>\n",
       "<style scoped>\n",
       "    .dataframe tbody tr th:only-of-type {\n",
       "        vertical-align: middle;\n",
       "    }\n",
       "\n",
       "    .dataframe tbody tr th {\n",
       "        vertical-align: top;\n",
       "    }\n",
       "\n",
       "    .dataframe thead th {\n",
       "        text-align: right;\n",
       "    }\n",
       "</style>\n",
       "<table border=\"1\" class=\"dataframe\">\n",
       "  <thead>\n",
       "    <tr style=\"text-align: right;\">\n",
       "      <th></th>\n",
       "      <th>SVM</th>\n",
       "      <th>LGB</th>\n",
       "      <th>close_tomorrow</th>\n",
       "      <th>close</th>\n",
       "      <th>SVM %change</th>\n",
       "      <th>LGB %change</th>\n",
       "      <th>close_tomorrow %change</th>\n",
       "    </tr>\n",
       "  </thead>\n",
       "  <tbody>\n",
       "  </tbody>\n",
       "</table>\n",
       "</div>"
      ],
      "text/plain": [
       "Empty DataFrame\n",
       "Columns: [SVM, LGB, close_tomorrow, close, SVM %change, LGB %change, close_tomorrow %change]\n",
       "Index: []"
      ]
     },
     "execution_count": 6,
     "metadata": {},
     "output_type": "execute_result"
    }
   ],
   "source": [
    "dt.loc[(dt['SVM %change'] > 2) & (dt['LGB %change'] > 1.5)]"
   ]
  },
  {
   "cell_type": "code",
   "execution_count": 37,
   "metadata": {},
   "outputs": [
    {
     "data": {
      "text/html": [
       "<div>\n",
       "<style scoped>\n",
       "    .dataframe tbody tr th:only-of-type {\n",
       "        vertical-align: middle;\n",
       "    }\n",
       "\n",
       "    .dataframe tbody tr th {\n",
       "        vertical-align: top;\n",
       "    }\n",
       "\n",
       "    .dataframe thead th {\n",
       "        text-align: right;\n",
       "    }\n",
       "</style>\n",
       "<table border=\"1\" class=\"dataframe\">\n",
       "  <thead>\n",
       "    <tr style=\"text-align: right;\">\n",
       "      <th></th>\n",
       "      <th>SVM</th>\n",
       "      <th>LGB</th>\n",
       "      <th>close_tomorrow</th>\n",
       "      <th>close</th>\n",
       "      <th>SVM %change</th>\n",
       "      <th>LGB %change</th>\n",
       "      <th>close_tomorrow %change</th>\n",
       "    </tr>\n",
       "  </thead>\n",
       "  <tbody>\n",
       "    <tr>\n",
       "      <th>0</th>\n",
       "      <td>15.812698</td>\n",
       "      <td>15.584647</td>\n",
       "      <td>15.19</td>\n",
       "      <td>15.22</td>\n",
       "      <td>3.894205</td>\n",
       "      <td>2.395843</td>\n",
       "      <td>-0.197109</td>\n",
       "    </tr>\n",
       "    <tr>\n",
       "      <th>1</th>\n",
       "      <td>15.672398</td>\n",
       "      <td>15.467332</td>\n",
       "      <td>15.72</td>\n",
       "      <td>15.19</td>\n",
       "      <td>3.175758</td>\n",
       "      <td>1.825753</td>\n",
       "      <td>3.489138</td>\n",
       "    </tr>\n",
       "    <tr>\n",
       "      <th>2</th>\n",
       "      <td>16.313847</td>\n",
       "      <td>15.585563</td>\n",
       "      <td>15.89</td>\n",
       "      <td>15.72</td>\n",
       "      <td>3.777651</td>\n",
       "      <td>-0.855199</td>\n",
       "      <td>1.081425</td>\n",
       "    </tr>\n",
       "    <tr>\n",
       "      <th>3</th>\n",
       "      <td>16.413078</td>\n",
       "      <td>16.005225</td>\n",
       "      <td>15.78</td>\n",
       "      <td>15.89</td>\n",
       "      <td>3.291870</td>\n",
       "      <td>0.725139</td>\n",
       "      <td>-0.692259</td>\n",
       "    </tr>\n",
       "    <tr>\n",
       "      <th>4</th>\n",
       "      <td>16.391458</td>\n",
       "      <td>15.974520</td>\n",
       "      <td>15.55</td>\n",
       "      <td>15.78</td>\n",
       "      <td>3.874893</td>\n",
       "      <td>1.232702</td>\n",
       "      <td>-1.457541</td>\n",
       "    </tr>\n",
       "  </tbody>\n",
       "</table>\n",
       "</div>"
      ],
      "text/plain": [
       "         SVM        LGB  close_tomorrow  close  SVM %change  LGB %change  \\\n",
       "0  15.812698  15.584647           15.19  15.22     3.894205     2.395843   \n",
       "1  15.672398  15.467332           15.72  15.19     3.175758     1.825753   \n",
       "2  16.313847  15.585563           15.89  15.72     3.777651    -0.855199   \n",
       "3  16.413078  16.005225           15.78  15.89     3.291870     0.725139   \n",
       "4  16.391458  15.974520           15.55  15.78     3.874893     1.232702   \n",
       "\n",
       "   close_tomorrow %change  \n",
       "0               -0.197109  \n",
       "1                3.489138  \n",
       "2                1.081425  \n",
       "3               -0.692259  \n",
       "4               -1.457541  "
      ]
     },
     "execution_count": 37,
     "metadata": {},
     "output_type": "execute_result"
    }
   ],
   "source": [
    "def calc_perc_change(arg):\n",
    "    x = arg[0]\n",
    "    y = arg[1]\n",
    "    ans = ((x - y) / y) * 100\n",
    "    return ans\n",
    "\n",
    "\n",
    "for i in ['SVM', 'LGB', 'close_tomorrow']:\n",
    "    dt[f'{i} %change'] = dt[[i, 'close']].apply(calc_perc_change, axis=1)\n",
    "\n",
    "dt.head()"
   ]
  },
  {
   "cell_type": "code",
   "execution_count": null,
   "metadata": {},
   "outputs": [],
   "source": [
    "\"\"\"\n",
    "My logic now is to find out where svm % change and lgb % change match the dirks' condition\n",
    "\"\"\""
   ]
  }
 ],
 "metadata": {
  "kernelspec": {
   "display_name": "Python 3",
   "language": "python",
   "name": "python3"
  },
  "language_info": {
   "codemirror_mode": {
    "name": "ipython",
    "version": 3
   },
   "file_extension": ".py",
   "mimetype": "text/x-python",
   "name": "python",
   "nbconvert_exporter": "python",
   "pygments_lexer": "ipython3",
   "version": "3.7.7"
  }
 },
 "nbformat": 4,
 "nbformat_minor": 4
}
